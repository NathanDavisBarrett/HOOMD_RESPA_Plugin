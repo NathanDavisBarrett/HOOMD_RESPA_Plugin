{
 "cells": [
  {
   "cell_type": "markdown",
   "id": "5f4c02a2",
   "metadata": {},
   "source": [
    "# Import and Initialize"
   ]
  },
  {
   "cell_type": "code",
   "execution_count": 1,
   "id": "c1de5118",
   "metadata": {},
   "outputs": [
    {
     "name": "stdout",
     "output_type": "stream",
     "text": [
      "System Path: ['/mnt/c/Users/rocki/Documents/WORK-Chicago/pythonTest', '/home/ndbarrett/miniconda3/envs/chicago/lib/python39.zip', '/home/ndbarrett/miniconda3/envs/chicago/lib/python3.9', '/home/ndbarrett/miniconda3/envs/chicago/lib/python3.9/lib-dynload', '', '/home/ndbarrett/miniconda3/envs/chicago/lib/python3.9/site-packages']\n",
      "Importing RESPA plugin. (8/15/2022 11:19PM)\n",
      "Plugin Path: /home/ndbarrett/miniconda3/envs/chicago/lib/python3.9/site-packages/hoomd/respa_plugin/__init__.py\n",
      "HOOMD-blue v2.9.7-4-g9e74d5e23 DOUBLE HPMC_MIXED SSE SSE2 \n",
      "Compiled: 07/18/22\n",
      "Copyright (c) 2009-2019 The Regents of the University of Michigan.\n",
      "-----\n",
      "You are using HOOMD-blue. Please cite the following:\n",
      "* J A Anderson, J Glaser, and S C Glotzer. \"HOOMD-blue: A Python package for\n",
      "  high-performance molecular dynamics and hard particle Monte Carlo\n",
      "  simulations\", Computational Materials Science 173 (2020) 109363\n",
      "-----\n",
      "HOOMD-blue is running on the CPU\n"
     ]
    }
   ],
   "source": [
    "import sys\n",
    "print(\"System Path:\",sys.path)\n",
    "\n",
    "import itertools\n",
    "import math\n",
    "\n",
    "import gsd.hoomd\n",
    "import hoomd\n",
    "\n",
    "import numpy as np\n",
    "\n",
    "from hoomd.example_plugin.update import example\n",
    "\n",
    "import hoomd.respa_plugin\n",
    "print(\"Plugin Path: {}\".format(hoomd.respa_plugin.__file__))\n",
    "\n",
    "import os\n",
    "\n",
    "import random as rand\n",
    "\n",
    "from matplotlib import pyplot\n",
    "\n",
    "hoomd.context.initialize('--mode=cpu');#'--notice-level=5');"
   ]
  },
  {
   "cell_type": "markdown",
   "id": "4469ca58",
   "metadata": {},
   "source": [
    "# Generate Snapshot"
   ]
  },
  {
   "cell_type": "code",
   "execution_count": 2,
   "id": "940abe38",
   "metadata": {},
   "outputs": [],
   "source": [
    "Lx = 10\n",
    "Ly = 10\n",
    "Lz = 30\n",
    "\n",
    "numParticles = 2\n",
    "\n",
    "types = [\n",
    "    \"TypeA\",\n",
    "    \"TypeB\"\n",
    "]\n",
    "\n",
    "snapshot = hoomd.data.make_snapshot(N=numParticles, particle_types=types, box=hoomd.data.boxdim(Lx,Ly,Lz))\n",
    "\n",
    "dx = 1\n",
    "\n",
    "xs = np.linspace(-1 * numParticles/2 * dx,numParticles/2*dx,numParticles)\n",
    "\n",
    "positions = []\n",
    "\n",
    "for i in range(numParticles):\n",
    "    positions.append([xs[i],0,0])\n",
    "    \n",
    "#positions[2][1] = 0.1\n",
    "\n",
    "velocities = []\n",
    "\n",
    "for i in range(numParticles):\n",
    "    velocities.append((0,0,0))\n",
    "\n",
    "    \n",
    "particleTypes = [\"TypeA\",\"TypeB\",\"TypeA\",\"TypeB\",\"TypeA\"]\n",
    "\n",
    "for i in range(len(positions)):\n",
    "    snapshot.particles.position[i] = positions[i]\n",
    "    snapshot.particles.velocity[i] = velocities[i]\n",
    "    snapshot.particles.typeid[i] = types.index(particleTypes[i])"
   ]
  },
  {
   "cell_type": "markdown",
   "id": "c99932df",
   "metadata": {},
   "source": [
    "# Initialize Simulation"
   ]
  },
  {
   "cell_type": "code",
   "execution_count": 3,
   "id": "60b0cdea",
   "metadata": {},
   "outputs": [
    {
     "name": "stdout",
     "output_type": "stream",
     "text": [
      "notice(2): Group \"all\" created containing 2 particles\n",
      "FORCE TYPES: <class 'hoomd.md._md.PotentialPairLJ'> <class 'hoomd.md.pair.lj'>\n"
     ]
    }
   ],
   "source": [
    "system = hoomd.init.read_snapshot(snapshot)\n",
    "file = hoomd.dump.gsd(\"3_body_trajectory.gsd\", period=500, group=hoomd.group.all(), overwrite=True)\n",
    "neighList = hoomd.md.nlist.cell()\n",
    "\n",
    "# lj1 = hoomd.respa_plugin.respa_pair.respa_lj(r_cut=3.0,nlist=neighList,group=hoomd.group.tags(0,2))\n",
    "# lj1.pair_coeff.set('TypeA','TypeA',epsilon=1.0,sigma=1.0)\n",
    "# hoomd.respa_plugin.respa_integrator.mode_respa(0.005,[[lj1,1]])\n",
    "\n",
    "lj1 = hoomd.md.pair.lj(r_cut=3.0, nlist=neighList)\n",
    "lj1.pair_coeff.set('TypeA','TypeA',epsilon=0.0,sigma=0.0)\n",
    "lj1.pair_coeff.set('TypeB','TypeB',epsilon=0.0,sigma=0.0)\n",
    "lj1.pair_coeff.set('TypeA','TypeB',epsilon=1.0,sigma=1.0)\n",
    "\n",
    "\n",
    "integrator = hoomd.respa_plugin.respa_integrator.mode_respa(1e-4,[[lj1,1]])\n",
    "# integrator = hoomd.md.integrate.mode_standard(dt=1e-4)\n",
    "# hoomd.md.integrate.nve(group=hoomd.group.tags(0,numParticles-1))\n",
    "\n",
    "log1 = hoomd.analyze.log(filename=\"3_body_log.log\",\n",
    "                         quantities=['num_particles',\n",
    "                                     'ndof',\n",
    "                                     'translational_ndof',\n",
    "                                     'rotational_ndof',\n",
    "                                     'potential_energy',\n",
    "                                     'kinetic_energy',\n",
    "                                     'translational_kinetic_energy',\n",
    "                                     'rotational_kinetic_energy',\n",
    "                                     'temperature',\n",
    "                                     'pressure',\n",
    "                                     'pair_lj_energy'],\n",
    "                         period=100,\n",
    "                         overwrite=True);"
   ]
  },
  {
   "cell_type": "markdown",
   "id": "e9750111",
   "metadata": {},
   "source": [
    "# Run Simulation"
   ]
  },
  {
   "cell_type": "code",
   "execution_count": 4,
   "id": "f9541ff4",
   "metadata": {},
   "outputs": [
    {
     "name": "stdout",
     "output_type": "stream",
     "text": [
      "notice(2): -- Neighborlist exclusion statistics -- :\n",
      "notice(2): Particles with 0 exclusions             : 2\n",
      "notice(2): Neighbors included by diameter          : no\n",
      "notice(2): Neighbors excluded when in the same body: no\n",
      "** starting run **\n",
      "Time 00:00:02 | Step 1000000 / 1000000 | TPS 385386 | ETA 00:00:00\n",
      "Average TPS: 385130\n",
      "---------\n",
      "-- Neighborlist stats:\n",
      "0 normal updates / 0 forced updates / 0 dangerous updates\n",
      "n_neigh_min: 0 / n_neigh_max: 1 / n_neigh_avg: 0.5\n",
      "shortest rebuild period: 100\n",
      "-- Cell list stats:\n",
      "Dimension: 2, 2, 8\n",
      "n_min    : 0 / n_max: 1 / n_avg: 0.0625\n",
      "** run complete **\n"
     ]
    }
   ],
   "source": [
    "hoomd.run(1000000)\n",
    "\n",
    "#Try somthing with 5 beads and some bonds in them\n"
   ]
  },
  {
   "cell_type": "markdown",
   "id": "6db7ebdd",
   "metadata": {},
   "source": [
    "# Output Results"
   ]
  },
  {
   "cell_type": "code",
   "execution_count": 5,
   "id": "bc1cdc70",
   "metadata": {},
   "outputs": [
    {
     "data": {
      "image/png": "[encoded data removed]",
      "text/plain": [
       "<Figure size 560x308 with 1 Axes>"
      ]
     },
     "metadata": {
      "needs_background": "light"
     },
     "output_type": "display_data"
    }
   ],
   "source": [
    "data = np.genfromtxt(fname='3_body_log.log', skip_header=True)\n",
    "    \n",
    "KE = data[:,6]\n",
    "PE = data[:,5]\n",
    "\n",
    "E = KE + PE\n",
    "    \n",
    "pyplot.figure(figsize=(4,2.2), dpi=140);\n",
    "pyplot.plot(data[1:,0], E[1:] - np.average(E[1:]), label='total_energy');\n",
    "#pyplot.title(\"Max KE: \" + str(max(data[:,6])))\n",
    "pyplot.xlabel('time step');\n",
    "#pyplot.ylabel('kinetic energy');\n",
    "pyplot.legend(loc='lower right');\n",
    "pyplot.savefig(\"KEgraph.png\")\n",
    "pyplot.show()"
   ]
  },
  {
   "cell_type": "code",
   "execution_count": null,
   "id": "78518242",
   "metadata": {},
   "outputs": [],
   "source": []
  }
 ],
 "metadata": {
  "kernelspec": {
   "display_name": "Python 3 (ipykernel)",
   "language": "python",
   "name": "python3"
  },
  "language_info": {
   "codemirror_mode": {
    "name": "ipython",
    "version": 3
   },
   "file_extension": ".py",
   "mimetype": "text/x-python",
   "name": "python",
   "nbconvert_exporter": "python",
   "pygments_lexer": "ipython3",
   "version": "3.9.12"
  }
 },
 "nbformat": 4,
 "nbformat_minor": 5
}
