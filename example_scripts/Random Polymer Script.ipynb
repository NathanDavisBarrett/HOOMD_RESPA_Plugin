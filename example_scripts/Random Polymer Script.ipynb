{
 "cells": [
  {
   "cell_type": "markdown",
   "id": "5f4c02a2",
   "metadata": {},
   "source": [
    "# Import and Initialize"
   ]
  },
  {
   "cell_type": "code",
   "execution_count": 1,
   "id": "c1de5118",
   "metadata": {},
   "outputs": [
    {
     "name": "stdout",
     "output_type": "stream",
     "text": [
      "##### Python PATH #####\n",
      " ['/mnt/c/Users/rocki/Documents/WORK-Chicago/pythonTest', '/home/ndbarrett/miniconda3/envs/chicago/lib/python39.zip', '/home/ndbarrett/miniconda3/envs/chicago/lib/python3.9', '/home/ndbarrett/miniconda3/envs/chicago/lib/python3.9/lib-dynload', '', '/home/ndbarrett/miniconda3/envs/chicago/lib/python3.9/site-packages'] \n",
      "#######################\n",
      "\n",
      "Importing RESPA plugin. (8/15/2022 11:19PM)\n",
      "##### Plugin PATH #####\n",
      " /home/ndbarrett/miniconda3/envs/chicago/lib/python3.9/site-packages/hoomd/respa_plugin/__init__.py \n",
      "#######################\n",
      "\n",
      "HOOMD-blue v2.9.7-4-g9e74d5e23 DOUBLE HPMC_MIXED SSE SSE2 \n",
      "Compiled: 07/18/22\n",
      "Copyright (c) 2009-2019 The Regents of the University of Michigan.\n",
      "-----\n",
      "You are using HOOMD-blue. Please cite the following:\n",
      "* J A Anderson, J Glaser, and S C Glotzer. \"HOOMD-blue: A Python package for\n",
      "  high-performance molecular dynamics and hard particle Monte Carlo\n",
      "  simulations\", Computational Materials Science 173 (2020) 109363\n",
      "-----\n",
      "HOOMD-blue is running on the CPU\n"
     ]
    }
   ],
   "source": [
    "import sys, os, time\n",
    "print(\"##### Python PATH #####\\n\",sys.path,\"\\n#######################\\n\")\n",
    "\n",
    "import itertools\n",
    "import math\n",
    "\n",
    "import gsd.hoomd\n",
    "import hoomd\n",
    "\n",
    "import numpy as np\n",
    "\n",
    "from hoomd.example_plugin.update import example\n",
    "\n",
    "import hoomd.respa_plugin\n",
    "print(\"##### Plugin PATH #####\\n\",hoomd.respa_plugin.__file__,\"\\n#######################\\n\")\n",
    "\n",
    "import os\n",
    "\n",
    "import random as rand\n",
    "\n",
    "from matplotlib import pyplot\n",
    "\n",
    "import fresnel\n",
    "import freud\n",
    "\n",
    "hoomd.context.initialize('--mode=cpu');"
   ]
  },
  {
   "cell_type": "markdown",
   "id": "4469ca58",
   "metadata": {},
   "source": [
    "# Generate Snapshot"
   ]
  },
  {
   "cell_type": "code",
   "execution_count": 2,
   "id": "940abe38",
   "metadata": {},
   "outputs": [
    {
     "name": "stdout",
     "output_type": "stream",
     "text": [
      "Placing Polymer Particles\n",
      "Placing Solvent Particles\n",
      "7981  solvent positions available\n",
      "Writing data\n",
      "Minimum particles positions: [-45.0, -20.0, -20.0]\n",
      "Maximum particles positions: [45.0, 20.0, 20.0]\n",
      "done\n"
     ]
    }
   ],
   "source": [
    "Lx = 100\n",
    "Ly = 50\n",
    "Lz = 50\n",
    "\n",
    "dx = 1.2\n",
    "\n",
    "rand.seed(1)\n",
    "\n",
    "polymerLength = int(Lx / dx)\n",
    "numSolv = 2000\n",
    "\n",
    "numParticles = polymerLength + numSolv\n",
    "\n",
    "types = [\n",
    "    \"poly\",\n",
    "    \"solv\"\n",
    "]\n",
    "\n",
    "snapshot = hoomd.data.make_snapshot(N=numParticles, particle_types=types, box=hoomd.data.boxdim(Lx,Ly,Lz))\n",
    "\n",
    "\n",
    "\n",
    "p = [-Lx/2 + 5,0,0]\n",
    "\n",
    "positions = []\n",
    "particleTypes = []\n",
    "velocities = []\n",
    "maxVel = 0.2\n",
    "numBonds = polymerLength - 1\n",
    "\n",
    "snapshot.bonds.resize(numBonds)\n",
    "snapshot.bonds.types = [\"polymer\"]\n",
    "\n",
    "print(\"Placing Polymer Particles\")\n",
    "posOK = True\n",
    "for i in range(polymerLength):\n",
    "    positions.append([p[0],p[1],p[2]])\n",
    "    velocities.append(list(np.random.uniform(-maxVel,maxVel,3)))\n",
    "    particleTypes.append(\"poly\")\n",
    "    \n",
    "    if i > 0:\n",
    "        snapshot.bonds.group[i-1] = [i,i-1]\n",
    "        snapshot.bonds.typeid[i-1] = snapshot.bonds.types.index(\"polymer\")\n",
    "    \n",
    "    #Choose a random direction moving in the positive x direction\n",
    "    ϕ = np.random.uniform(-np.pi/4,np.pi/4)\n",
    "    θ = np.random.uniform(np.pi/4,3*np.pi/4)\n",
    "    \n",
    "    p[0] = (p[0] + dx * np.sin(θ) * np.cos(ϕ) )\n",
    "    p[1] = ((p[1] + dx * np.sin(θ) * np.sin(ϕ)) + Ly/2) % Ly - Ly/2\n",
    "    p[2] = ((p[2] + dx * np.cos(θ)            ) + Lz/2) % Lz - Lz/2\n",
    "    \n",
    "    if p[0] < -Lx/2 or p[0] > Lx/2:\n",
    "        print(\"!! X\",i,\" OUTSIDE BOX !!\",p[0]) \n",
    "        print(\"θ:\",θ / np.pi * 180,\"ϕ:\",ϕ / np.pi * 180)\n",
    "        print(\"dx:\",dx * np.sin(θ) * np.cos(ϕ))\n",
    "        print(\"dy:\",dx * np.sin(θ) * np.sin(ϕ))\n",
    "        print(\"dz:\",dx * np.cos(θ))\n",
    "        posOK = False\n",
    "        break\n",
    "    if p[1] < -Ly/2 or p[1] > Ly/2:\n",
    "        print(\"!! Y\",i,\" OUTSIDE BOX !!\",p[1]) \n",
    "        print(\"θ:\",θ / np.pi * 180,\"ϕ:\",ϕ / np.pi * 180)\n",
    "        print(\"dx:\",dx * np.sin(θ) * np.cos(ϕ))\n",
    "        print(\"dy:\",dx * np.sin(θ) * np.sin(ϕ))\n",
    "        print(\"dz:\",dx * np.cos(θ))\n",
    "        posOK = False\n",
    "        break\n",
    "    if p[2] < -Lz/2 or p[2] > Lz/2:\n",
    "        print(\"!! Z\",i,\" OUTSIDE BOX !!\",p[2]) \n",
    "        print(\"θ:\",θ / np.pi * 180,\"ϕ:\",ϕ / np.pi * 180)\n",
    "        print(\"dx:\",dx * np.sin(θ) * np.cos(ϕ))\n",
    "        print(\"dy:\",dx * np.sin(θ) * np.sin(ϕ))\n",
    "        print(\"dz:\",dx * np.cos(θ))\n",
    "        posOK = False\n",
    "        break\n",
    "        \n",
    "if not posOK:\n",
    "    raise Exception(\"POSITIONS ARE NOT OKAY\")\n",
    "        \n",
    "print(\"Placing Solvent Particles\")\n",
    "availPos = []\n",
    "numPer = 20\n",
    "buffer = 5\n",
    "for xi in np.linspace(-Lx/2 + buffer,Lx/2 - buffer,numPer):\n",
    "    for yi in np.linspace(-Ly/2 + buffer,Ly/2 - buffer,numPer):\n",
    "        for zi in np.linspace(-Lz/2 + buffer,Lz/2 - buffer,numPer):\n",
    "            valid = True\n",
    "            for pj in positions:\n",
    "                d = np.sqrt((pj[0] - xi)**2 + (pj[1] - yi)**2 + (pj[2] - zi)**2)\n",
    "                if d < dx:\n",
    "                    valid = False\n",
    "                    break\n",
    "            \n",
    "            if valid:\n",
    "                availPos.append([xi,yi,zi])\n",
    "                \n",
    "print(len(availPos),\" solvent positions available\")\n",
    "if len(availPos) < numSolv:\n",
    "    \n",
    "    raise Exception(\"Error! Not enough room for solvent!\")\n",
    "                \n",
    "for i in range(numSolv):\n",
    "    positions.append(availPos.pop(np.random.randint(0,len(availPos))))\n",
    "    velocities.append(list(np.random.uniform(-maxVel,maxVel,3)))\n",
    "    particleTypes.append(\"solv\")\n",
    "\n",
    "print(\"Writing data\")\n",
    "mins = [np.infty,np.infty,np.infty]\n",
    "maxs = [-np.infty,-np.infty,-np.infty]\n",
    "for i in range(len(positions)):\n",
    "    #Check positions:\n",
    "    p = positions[i]\n",
    "    \n",
    "    for j in range(3):\n",
    "        if p[j] < mins[j]:\n",
    "            mins[j] = p[j]\n",
    "        if p[j] > maxs[j]:\n",
    "            maxs[j] = p[j]\n",
    "    \n",
    "    if p[0] < -Lx/2 or p[0] > Lx/2:\n",
    "        print(\"!! X\",i,\" OUTSIDE BOX !!\",p[0]) \n",
    "    if p[1] < -Ly/2 or p[1] > Ly/2:\n",
    "        print(\"!! Y\",i,\" OUTSIDE BOX !!\",p[1]) \n",
    "    if p[2] < -Lz/2 or p[2] > Lz/2:\n",
    "        print(\"!! Z\",i,\" OUTSIDE BOX !!\",p[2]) \n",
    "    \n",
    "    snapshot.particles.position[i] = positions[i]\n",
    "    snapshot.particles.velocity[i] = velocities[i]\n",
    "    snapshot.particles.typeid[i] = types.index(particleTypes[i])\n",
    "    \n",
    "print(\"Minimum particles positions:\",mins)\n",
    "print(\"Maximum particles positions:\",maxs)\n",
    "print(\"done\")"
   ]
  },
  {
   "cell_type": "markdown",
   "id": "c99932df",
   "metadata": {},
   "source": [
    "# Initialize Simulation"
   ]
  },
  {
   "cell_type": "code",
   "execution_count": 3,
   "id": "60b0cdea",
   "metadata": {},
   "outputs": [
    {
     "name": "stdout",
     "output_type": "stream",
     "text": [
      "notice(2): Group \"all\" created containing 2083 particles\n",
      "FORCE TYPES: <class 'hoomd.md._md.PotentialPairLJ'> <class 'hoomd.md.pair.lj'>\n",
      "FORCE TYPES: <class 'hoomd.md._md.PotentialBondHarmonic'> <class 'hoomd.md.bond.harmonic'>\n"
     ]
    }
   ],
   "source": [
    "system = hoomd.init.read_snapshot(snapshot)\n",
    "file = hoomd.dump.gsd(\"polymer.gsd\", period=25, group=hoomd.group.all(), overwrite=True)\n",
    "neighList = hoomd.md.nlist.cell()\n",
    "\n",
    "lj1 = hoomd.md.pair.lj(r_cut=3.0, nlist=neighList)\n",
    "lj1.pair_coeff.set('poly','poly',epsilon=0.1,sigma=2.0)\n",
    "lj1.pair_coeff.set('poly','solv',epsilon=0.1,sigma=1.0)\n",
    "lj1.pair_coeff.set('solv','solv',epsilon=1.4,sigma=1.0) #timestep = σ * sqrt(m / ϵ) * 1e-4\n",
    "\n",
    "#Note that when adding bond forces, you must also include them\n",
    "#in the respa integrator definition.\n",
    "harmBond = hoomd.md.bond.harmonic(name=\"bond1\")\n",
    "harmBond.bond_coeff.set('polymer', k=1.0, r0=0.9)\n",
    "\n",
    "integrator = hoomd.respa_plugin.respa_integrator.mode_respa(1e-4,[[lj1,1],[harmBond,10]])\n",
    "#hoomd.respa_plugin.respa_integrator.mode_respa(0.005,[[lj1,1]])\n",
    "\n",
    "log1 = hoomd.analyze.log(filename=\"polymer.log\",\n",
    "                         quantities=['num_particles',\n",
    "                                     'ndof',\n",
    "                                     'translational_ndof',\n",
    "                                     'rotational_ndof',\n",
    "                                     'potential_energy',\n",
    "                                     'kinetic_energy',\n",
    "                                     'translational_kinetic_energy',\n",
    "                                     'rotational_kinetic_energy',\n",
    "                                     'temperature',\n",
    "                                     'pressure',\n",
    "                                     'pair_lj_energy'],\n",
    "                         period=100,\n",
    "                         overwrite=True);"
   ]
  },
  {
   "cell_type": "markdown",
   "id": "e9750111",
   "metadata": {},
   "source": [
    "# Run Simulation"
   ]
  },
  {
   "cell_type": "code",
   "execution_count": 4,
   "id": "f9541ff4",
   "metadata": {},
   "outputs": [
    {
     "name": "stdout",
     "output_type": "stream",
     "text": [
      "notice(2): -- Neighborlist exclusion statistics -- :\n",
      "notice(2): Particles with 0 exclusions             : 2000\n",
      "notice(2): Particles with 1 exclusions             : 2\n",
      "notice(2): Particles with 2 exclusions             : 81\n",
      "notice(2): Neighbors included by diameter          : no\n",
      "notice(2): Neighbors excluded when in the same body: no\n",
      "** starting run **\n",
      "Time 00:00:10 | Step 15193 / 30000 | TPS 1519.25 | ETA 00:00:09\n",
      "Time 00:00:18 | Step 30000 / 30000 | TPS 1831.88 | ETA 00:00:00\n",
      "Average TPS: 1658.89\n",
      "---------\n",
      "-- Neighborlist stats:\n",
      "0 normal updates / 0 forced updates / 0 dangerous updates\n",
      "n_neigh_min: 0 / n_neigh_max: 9 / n_neigh_avg: 0.927508\n",
      "shortest rebuild period: 100\n",
      "-- Cell list stats:\n",
      "Dimension: 29, 14, 14\n",
      "n_min    : 0 / n_max: 7 / n_avg: 0.366467\n",
      "** run complete **\n",
      "This simulation runs at 289.65395724302215 nanoseconds / step / particle\n"
     ]
    }
   ],
   "source": [
    "numSteps = 30000\n",
    "\n",
    "tStart = time.time()\n",
    "hoomd.run(numSteps)\n",
    "tStop = time.time()\n",
    "\n",
    "dt = tStop - tStart\n",
    "\n",
    "ans = dt / numSteps / numParticles * 1e9\n",
    "print(\"This simulation runs at\",ans,\"nanoseconds / step / particle\")\n",
    "\n",
    "#Try somthing with 5 beads and some bonds in them\n"
   ]
  },
  {
   "cell_type": "markdown",
   "id": "6db7ebdd",
   "metadata": {},
   "source": [
    "# Output Results\n",
    "\n",
    "### Since the initial structure is highly organized, it is not surprising that total energy fluctuates near the begining of the simulation."
   ]
  },
  {
   "cell_type": "code",
   "execution_count": 5,
   "id": "bc1cdc70",
   "metadata": {},
   "outputs": [
    {
     "data": {
      "image/png": "[encoded data removed]",
      "text/plain": [
       "<Figure size 560x308 with 1 Axes>"
      ]
     },
     "metadata": {
      "needs_background": "light"
     },
     "output_type": "display_data"
    }
   ],
   "source": [
    "data = np.genfromtxt(fname='polymer.log', skip_header=True)\n",
    "    \n",
    "KEs = data[:,6]\n",
    "PEs = data[:,5]\n",
    "\n",
    "total = KEs + PEs\n",
    "    \n",
    "pyplot.figure(figsize=(4,2.2), dpi=140);\n",
    "#pyplot.plot(data[1:,0], KEs[1:], label='kinetic_energy');\n",
    "#pyplot.plot(data[1:,0], PEs[1:], label='potential_energy');\n",
    "pyplot.plot(data[1:,0], total[1:] - np.average(total[:1]), label='total_energy');\n",
    "pyplot.title(\"Max KE: \" + str(max(data[:,6])))\n",
    "pyplot.xlabel('time step');\n",
    "pyplot.ylabel('kinetic energy');\n",
    "pyplot.legend(loc='lower right');\n",
    "pyplot.savefig(\"KEgraph.png\")\n",
    "pyplot.show()"
   ]
  },
  {
   "cell_type": "markdown",
   "id": "3c5c4d39-d0a8-43eb-afa1-fafce5e16421",
   "metadata": {},
   "source": [
    "# Visualization"
   ]
  },
  {
   "cell_type": "code",
   "execution_count": 6,
   "id": "78518242",
   "metadata": {},
   "outputs": [
    {
     "name": "stdout",
     "output_type": "stream",
     "text": [
      "Integrator Schedule:\n",
      "Vel Step 1 FC_A\n",
      "Vel Step 1 FC_B\n",
      "Pos Step\n",
      "Vel Step 2 FC_B\n",
      "Vel Step 1 FC_B\n",
      "Pos Step\n",
      "Vel Step 2 FC_B\n",
      "Vel Step 1 FC_B\n",
      "Pos Step\n",
      "Vel Step 2 FC_B\n",
      "Vel Step 1 FC_B\n",
      "Pos Step\n",
      "Vel Step 2 FC_B\n",
      "Vel Step 1 FC_B\n",
      "Pos Step\n",
      "Vel Step 2 FC_B\n",
      "Vel Step 1 FC_B\n",
      "Pos Step\n",
      "Vel Step 2 FC_B\n",
      "Vel Step 1 FC_B\n",
      "Pos Step\n",
      "Vel Step 2 FC_B\n",
      "Vel Step 1 FC_B\n",
      "Pos Step\n",
      "Vel Step 2 FC_B\n",
      "Vel Step 1 FC_B\n",
      "Pos Step\n",
      "Vel Step 2 FC_B\n",
      "Vel Step 1 FC_B\n",
      "Pos Step\n",
      "Vel Step 2 FC_B\n",
      "Vel Step 2 FC_A\n",
      "\n"
     ]
    }
   ],
   "source": [
    "print(\"Integrator Schedule:\")\n",
    "integrator.print_schedule()"
   ]
  },
  {
   "cell_type": "code",
   "execution_count": null,
   "id": "9da43787-4402-4ed4-bcd2-6ebb8ea90000",
   "metadata": {},
   "outputs": [],
   "source": []
  }
 ],
 "metadata": {
  "kernelspec": {
   "display_name": "Python 3 (ipykernel)",
   "language": "python",
   "name": "python3"
  },
  "language_info": {
   "codemirror_mode": {
    "name": "ipython",
    "version": 3
   },
   "file_extension": ".py",
   "mimetype": "text/x-python",
   "name": "python",
   "nbconvert_exporter": "python",
   "pygments_lexer": "ipython3",
   "version": "3.9.12"
  }
 },
 "nbformat": 4,
 "nbformat_minor": 5
}
